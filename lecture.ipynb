{
 "cells": [
  {
   "cell_type": "markdown",
   "metadata": {},
   "source": [
    "# Continuous Embeddings\n",
    "\n",
    "In this notebook we will explore some continuous embedding spaces for words and documents.\n",
    "\n",
    "After each video in this notebook is a small exercise. I really encourage you to try the exercise on your own. There are solutions in `solutions.py` that can help you see that you are on the right track and give you new ideas, but I urge you not to look at those until you have tried to solve the solution on your own. Implementation is good practice!\n",
    "\n"
   ]
  },
  {
   "cell_type": "code",
   "execution_count": 1,
   "metadata": {},
   "outputs": [],
   "source": [
    "import matplotlib.pyplot as plt\n",
    "from IPython.lib.display import YouTubeVideo\n",
    "\n",
    "plt.rcParams['figure.figsize'] = [12, 6]"
   ]
  },
  {
   "cell_type": "code",
   "execution_count": 2,
   "metadata": {},
   "outputs": [
    {
     "data": {
      "image/jpeg": "[encoded data removed]",
      "text/html": [
       "\n",
       "        <iframe\n",
       "            width=\"640\"\n",
       "            height=\"360\"\n",
       "            src=\"https://www.youtube.com/embed/V2PorP6oMLY\"\n",
       "            frameborder=\"0\"\n",
       "            allowfullscreen\n",
       "        ></iframe>\n",
       "        "
      ],
      "text/plain": [
       "<IPython.lib.display.YouTubeVideo at 0x10a995b38>"
      ]
     },
     "execution_count": 2,
     "metadata": {},
     "output_type": "execute_result"
    }
   ],
   "source": [
    "YouTubeVideo('V2PorP6oMLY', width=640,height=360)"
   ]
  },
  {
   "cell_type": "code",
   "execution_count": 3,
   "metadata": {},
   "outputs": [],
   "source": [
    "docs = ['\"I dont believe people who see ghosts\", said Mannie, before spitting into the wind and riding his bike down the street at top speed. He then went home and ate peanut-butter and jelly sandwiches all day with big glasses of milk, which he loves. Mannie really liked ghosts and he often told his mother so. He believed he saw them everywhere and that they existed to help us.',\n",
    "\n",
    "        'People see incredible things. One time I saw some people talking about things they were seeing, and those people were so much fun. They saw clouds and they saw airplanes and they saw Ghosts. Ghosts were the most incredible things people saw. ',\n",
    "        \n",
    "        'We have collected a report of people in our community seeing ghosts. Each resident was asked \"how many ghosts have you seen?\", \"describe the last ghost you saw\", and \"tell us about your mother.\" Afterwards, we compared the ghost reports between the different individuals, and assessed whether or not they were actually seeing these apparitions.',\n",
    "\n",
    "        'This is an article about a circus. A Circus is where people go to see other people who perform great things. Circuses also have elephants and tigers, which generally get a big woop from the crowd. People love the tigers.',\n",
    "\n",
    "        'Goat milk is essential for strong bones. We recommend drinking much goat milk, people of all ages should drink goat milk. Tigers milk is also essential.',\n",
    "\n",
    "        'Goats are lovely creatures. Many people love goats. People who love goats love seeing them play in the fields.',\n",
    "\n",
    "        'There are many types of milk in the world, from elephants, cows, sheep, tiger, mothers, etc. Each of these milks are important for building strong bodies and healthy bones. ']"
   ]
  },
  {
   "cell_type": "markdown",
   "metadata": {},
   "source": [
    "## **Exercise 1**\n",
    "\n",
    "Create a document-term matrix from `docs` (this will probably be a copy-paste of code from last week!). Be fairly aggressive with your vocabulary pruning (feel free to look at the settings I use in the `solutions.py` for the vectorizer). \n",
    "\n",
    "Get the \"loadings\" matrix of the firsst 2 dimensions of PCA run on your document-term matrix. This is the $V^T$ from the SVD decomposition (HINT: this is the `.components_` of `sklearn` PCA models. Also, you can use `TruncatedSVD` to have a model that works on sparse matrices as well, even though its not needed in these toy examples).\n",
    "\n",
    "Plot the 2-dimensional word vectors in a scatter plot with labels for each word. What do you think of how they are laid out? "
   ]
  },
  {
   "cell_type": "code",
   "execution_count": 4,
   "metadata": {},
   "outputs": [],
   "source": [
    "import re\n",
    "import spacy\n",
    "import seaborn as sns\n",
    "import pandas as pd\n",
    "import numpy as np\n",
    "from sklearn.feature_extraction.text import TfidfVectorizer\n",
    "from sklearn.decomposition import TruncatedSVD\n",
    "\n",
    "not_alphanumeric_or_space = re.compile(r'[^(\\w|\\s|\\d)]')\n",
    "nlp = spacy.load('en_core_web_sm')"
   ]
  },
  {
   "cell_type": "code",
   "execution_count": 15,
   "metadata": {},
   "outputs": [],
   "source": [
    "def preprocess(docs):\n",
    "    docs_words = []\n",
    "    for d in docs:\n",
    "        docs1 = re.sub(not_alphanumeric_or_space, '', d.lower())\n",
    "        docs2 = str(docs1).strip()\n",
    "        docs3 = [token.lemma_ for token in nlp(docs2) if token.lemma_ != '-PRON-']\n",
    "        docs4 = ' '.join(docs3)\n",
    "        docs_words.append(docs4)   \n",
    "    return(docs_words)"
   ]
  },
  {
   "cell_type": "code",
   "execution_count": 27,
   "metadata": {},
   "outputs": [],
   "source": [
    "vectorizer = TfidfVectorizer(min_df=2,\n",
    "                             max_df=.8,\n",
    "                             stop_words='english',\n",
    "                             use_idf=False,\n",
    "                             norm=False)\n",
    "docs = preprocess(docs)\n",
    "vec = vectorizer.fit_transform(docs)\n",
    "vec = vec.todense()"
   ]
  },
  {
   "cell_type": "code",
   "execution_count": 53,
   "metadata": {},
   "outputs": [],
   "source": [
    "from sklearn.decomposition import PCA\n",
    "pca = PCA(n_components=2)\n",
    "pca.fit(vec)\n",
    "loadings = pca.components_\n",
    "vocab = [i[0] for i in sorted(vectorizer.vocabulary_.items(), key=lambda x: x[1])]"
   ]
  },
  {
   "cell_type": "code",
   "execution_count": 67,
   "metadata": {},
   "outputs": [
    {
     "data": {
      "image/png": "[encoded data removed]",
      "text/plain": [
       "<Figure size 432x288 with 1 Axes>"
      ]
     },
     "metadata": {
      "needs_background": "light"
     },
     "output_type": "display_data"
    }
   ],
   "source": [
    "plt.scatter(loadings[0,:],loadings[1,:])\n",
    "for x,y,v in zip(loadings[0,:],loadings[1,:],vocab):\n",
    "    plt.annotate(v, \n",
    "                 (x,y), # coordinates of point to label\n",
    "                 textcoords=\"offset points\", # how to position the text\n",
    "                 xytext=(0,5), # distance from text to points (x,y)\n",
    "                 ha='center')"
   ]
  },
  {
   "cell_type": "markdown",
   "metadata": {},
   "source": [
    "This partially makes sense. For instance, 'bone' is close to 'strong', and 'elephant' is close to 'tiger'. However, a lot of other word associations are not reflected, such as 'mother' or 'goat' with 'milk'. "
   ]
  },
  {
   "cell_type": "code",
   "execution_count": 70,
   "metadata": {},
   "outputs": [
    {
     "data": {
      "image/jpeg": "[encoded data removed]",
      "text/html": [
       "\n",
       "        <iframe\n",
       "            width=\"640\"\n",
       "            height=\"360\"\n",
       "            src=\"https://www.youtube.com/embed/zR01I04XP9A\"\n",
       "            frameborder=\"0\"\n",
       "            allowfullscreen\n",
       "        ></iframe>\n",
       "        "
      ],
      "text/plain": [
       "<IPython.lib.display.YouTubeVideo at 0x1a1e948a58>"
      ]
     },
     "execution_count": 70,
     "metadata": {},
     "output_type": "execute_result"
    }
   ],
   "source": [
    "YouTubeVideo('zR01I04XP9A', width=640,height=360)"
   ]
  },
  {
   "cell_type": "markdown",
   "metadata": {},
   "source": [
    "\n",
    "## **Exercise 2**\n",
    "\n",
    "As per the video, learn an embedding matrix, $W$, such that $\\sigma(XW\\beta)$ predicts class y in our documents. Initialize the matrix $W$ with $V^T$ from the SVD decomposition of your document-term-frequency matrix $X$.\n",
    "\n",
    "Use `pytorch` to solve this problem. You don't need any neural network infrastructure, it's very simple with just matrix multiplication and gradients.\n",
    "\n",
    "Remember, this is just logistic regression in a latent space, and that latent space is defined by a linear mapping ($W$) that is learned at the same time as the coefficients of the logistic regression.\n",
    "\n",
    "\n",
    "[This tutorial in the pytorch documentation gives you what you need!](https://pytorch.org/tutorials/beginner/blitz/autograd_tutorial.html#sphx-glr-beginner-blitz-autograd-tutorial-py)\n",
    "\n",
    "I also encourage you to look at the solutions if you are new to `pytorch`, you will have another chance in a later exercise to play with it on your own!"
   ]
  },
  {
   "cell_type": "code",
   "execution_count": 165,
   "metadata": {},
   "outputs": [],
   "source": [
    "# use y as your prediction target:\n",
    "\n",
    "y = np.array([0,0,0,1,1,1,1]).reshape(-1, 1)"
   ]
  },
  {
   "cell_type": "code",
   "execution_count": 166,
   "metadata": {},
   "outputs": [
    {
     "name": "stdout",
     "output_type": "stream",
     "text": [
      "tensor(1.0599, grad_fn=<BinaryCrossEntropyBackward>)\n",
      "tensor(0.6590, grad_fn=<BinaryCrossEntropyBackward>)\n",
      "tensor(0.4672, grad_fn=<BinaryCrossEntropyBackward>)\n",
      "tensor(0.2553, grad_fn=<BinaryCrossEntropyBackward>)\n",
      "tensor(0.1053, grad_fn=<BinaryCrossEntropyBackward>)\n",
      "tensor(0.0457, grad_fn=<BinaryCrossEntropyBackward>)\n",
      "tensor(0.0248, grad_fn=<BinaryCrossEntropyBackward>)\n",
      "tensor(0.0160, grad_fn=<BinaryCrossEntropyBackward>)\n",
      "tensor(0.0114, grad_fn=<BinaryCrossEntropyBackward>)\n",
      "tensor(0.0087, grad_fn=<BinaryCrossEntropyBackward>)\n",
      "tensor(0.0069, grad_fn=<BinaryCrossEntropyBackward>)\n",
      "tensor(0.0056, grad_fn=<BinaryCrossEntropyBackward>)\n",
      "tensor(0.0047, grad_fn=<BinaryCrossEntropyBackward>)\n",
      "tensor(0.0039, grad_fn=<BinaryCrossEntropyBackward>)\n",
      "tensor(0.0034, grad_fn=<BinaryCrossEntropyBackward>)\n",
      "tensor(0.0030, grad_fn=<BinaryCrossEntropyBackward>)\n",
      "tensor(0.0026, grad_fn=<BinaryCrossEntropyBackward>)\n",
      "tensor(0.0023, grad_fn=<BinaryCrossEntropyBackward>)\n",
      "tensor(0.0021, grad_fn=<BinaryCrossEntropyBackward>)\n",
      "tensor(0.0019, grad_fn=<BinaryCrossEntropyBackward>)\n",
      "tensor(0.0017, grad_fn=<BinaryCrossEntropyBackward>)\n",
      "tensor(0.0015, grad_fn=<BinaryCrossEntropyBackward>)\n",
      "tensor(0.0014, grad_fn=<BinaryCrossEntropyBackward>)\n",
      "tensor(0.0013, grad_fn=<BinaryCrossEntropyBackward>)\n",
      "tensor(0.0012, grad_fn=<BinaryCrossEntropyBackward>)\n"
     ]
    }
   ],
   "source": [
    "import torch\n",
    "\n",
    "Y = torch.tensor(y, dtype=torch.float32)\n",
    "X = torch.tensor(vec, dtype=torch.float32)\n",
    "W = torch.tensor(loadings.transpose(), dtype=torch.float32,requires_grad=True)\n",
    "beta = torch.randn(2,1,requires_grad=True)\n",
    "\n",
    "opt = torch.optim.Adam([W, beta], lr=0.01)\n",
    "criterion = torch.nn.BCELoss()\n",
    "\n",
    "for i in range(500):\n",
    "    L = torch.mm(X, W)\n",
    "    out = torch.mm(L, beta)\n",
    "    p = torch.sigmoid(out)\n",
    "    loss = criterion(p, Y)\n",
    "    if i % 20 == 0:\n",
    "        print(loss)\n",
    "    loss.backward()\n",
    "    opt.step()\n",
    "    opt.zero_grad()"
   ]
  },
  {
   "cell_type": "code",
   "execution_count": 167,
   "metadata": {},
   "outputs": [],
   "source": [
    "w_out = W.detach().numpy().transpose()\n",
    "beta_out = beta.detach().numpy()"
   ]
  },
  {
   "cell_type": "code",
   "execution_count": 169,
   "metadata": {},
   "outputs": [
    {
     "data": {
      "image/png": "[encoded data removed]",
      "text/plain": [
       "<Figure size 432x288 with 1 Axes>"
      ]
     },
     "metadata": {
      "needs_background": "light"
     },
     "output_type": "display_data"
    }
   ],
   "source": [
    "plt.scatter(w_out[0,:],w_out[1,:])\n",
    "for x,y,v in zip(w_out[0,:],w_out[1,:],vocab):\n",
    "    plt.annotate(v, \n",
    "                 (x,y), # coordinates of point to label\n",
    "                 textcoords=\"offset points\", # how to position the text\n",
    "                 xytext=(0,5), # distance from text to points (x,y)\n",
    "                 ha='center')"
   ]
  },
  {
   "cell_type": "code",
   "execution_count": 171,
   "metadata": {},
   "outputs": [
    {
     "data": {
      "image/jpeg": "[encoded data removed]",
      "text/html": [
       "\n",
       "        <iframe\n",
       "            width=\"640\"\n",
       "            height=\"360\"\n",
       "            src=\"https://www.youtube.com/embed/YYdQhbnbqsw\"\n",
       "            frameborder=\"0\"\n",
       "            allowfullscreen\n",
       "        ></iframe>\n",
       "        "
      ],
      "text/plain": [
       "<IPython.lib.display.YouTubeVideo at 0x1a1c855da0>"
      ]
     },
     "execution_count": 171,
     "metadata": {},
     "output_type": "execute_result"
    }
   ],
   "source": [
    "YouTubeVideo('YYdQhbnbqsw', width=640,height=360)"
   ]
  },
  {
   "cell_type": "markdown",
   "metadata": {},
   "source": [
    "**Assignment**\n",
    "\n",
    "The assignment is related to Word2Vec! Feel free to complete it now :)"
   ]
  },
  {
   "cell_type": "code",
   "execution_count": null,
   "metadata": {},
   "outputs": [],
   "source": [
    "YouTubeVideo('h6J1-SB_Bno', width=640,height=360)"
   ]
  },
  {
   "cell_type": "markdown",
   "metadata": {},
   "source": [
    "\n",
    "## **Exercise 3**\n",
    "Let's take a look at how PCA is reconstructing the cooccurrence matrix of the terms within documents. \n",
    "\n",
    "Plot a heatmap of $X^TX$ and a heatmap of $ww^T$ where $w$ is is learned mapping of from word space into the reduced dimensional space of the PCA (i.e. $w = V^T$ from the SVD decomposition of hte $X$ matrix)\n",
    "\n",
    "Does the two matrices seem qualitatively similar, from their heatmaps? "
   ]
  },
  {
   "cell_type": "code",
   "execution_count": 175,
   "metadata": {},
   "outputs": [
    {
     "data": {
      "text/plain": [
       "<matplotlib.axes._subplots.AxesSubplot at 0x1a1e52e5f8>"
      ]
     },
     "execution_count": 175,
     "metadata": {},
     "output_type": "execute_result"
    },
    {
     "data": {
      "image/png": "[encoded data removed]",
      "text/plain": [
       "<Figure size 432x288 with 2 Axes>"
      ]
     },
     "metadata": {
      "needs_background": "light"
     },
     "output_type": "display_data"
    }
   ],
   "source": [
    "sns.heatmap(np.matmul(vec.transpose(),vec))"
   ]
  },
  {
   "cell_type": "code",
   "execution_count": 177,
   "metadata": {},
   "outputs": [
    {
     "data": {
      "text/plain": [
       "<matplotlib.axes._subplots.AxesSubplot at 0x1a1e676320>"
      ]
     },
     "execution_count": 177,
     "metadata": {},
     "output_type": "execute_result"
    },
    {
     "data": {
      "image/png": "[encoded data removed]",
      "text/plain": [
       "<Figure size 432x288 with 2 Axes>"
      ]
     },
     "metadata": {
      "needs_background": "light"
     },
     "output_type": "display_data"
    }
   ],
   "source": [
    "sns.heatmap(np.matmul(loadings.transpose(),loadings))"
   ]
  },
  {
   "cell_type": "markdown",
   "metadata": {},
   "source": [
    "## **Exercise 4**\n",
    "\n",
    "Let's try and reconstuct a cooccurrence matrix that takes word position into account. You can think of this as a simplified version of GloVe! We will see if the embeddings differ qualitatively. \n",
    "\n",
    "First, create a coccurrence matrix where the value of i,j is incremented by $1/D$ (where $D$ is the distance between two words) every time two words cooccurr in the same document. Plot it out in a heatmap, compare it to the previous two heatmaps. How does it differ? \n",
    "\n",
    "Second, learn a new 2-dimensional word embedding, $w$, that minimizes the frobenius norm of the distance between the target matrix (the cooccurrence matrix you constructed) and the matrix $ww^T$. Use pytorch to optimize the problem. \n",
    "\n",
    "Third, plot your learned 2-dimensional word embeddings. How do they compare to the other embeddings? \n"
   ]
  },
  {
   "cell_type": "code",
   "execution_count": 181,
   "metadata": {},
   "outputs": [
    {
     "data": {
      "text/plain": [
       "['big',\n",
       " 'bone',\n",
       " 'elephant',\n",
       " 'ghost',\n",
       " 'goat',\n",
       " 'love',\n",
       " 'milk',\n",
       " 'mother',\n",
       " 'strong',\n",
       " 'tell',\n",
       " 'thing',\n",
       " 'tiger']"
      ]
     },
     "execution_count": 181,
     "metadata": {},
     "output_type": "execute_result"
    }
   ],
   "source": [
    "vocab"
   ]
  },
  {
   "cell_type": "code",
   "execution_count": 180,
   "metadata": {},
   "outputs": [
    {
     "data": {
      "text/plain": [
       "matrix([[1., 0., 0., 2., 0., 1., 1., 1., 0., 1., 0., 0.],\n",
       "        [0., 0., 0., 2., 0., 0., 0., 0., 0., 0., 3., 0.],\n",
       "        [0., 0., 0., 4., 0., 0., 0., 1., 0., 1., 0., 0.],\n",
       "        [1., 0., 1., 0., 0., 1., 0., 0., 0., 0., 1., 2.],\n",
       "        [0., 1., 0., 0., 3., 0., 4., 0., 1., 0., 0., 1.],\n",
       "        [0., 0., 0., 0., 3., 3., 0., 0., 0., 0., 0., 0.],\n",
       "        [0., 1., 1., 0., 0., 0., 2., 1., 1., 0., 0., 1.]])"
      ]
     },
     "execution_count": 180,
     "metadata": {},
     "output_type": "execute_result"
    }
   ],
   "source": [
    "vec"
   ]
  },
  {
   "cell_type": "code",
   "execution_count": 200,
   "metadata": {},
   "outputs": [
    {
     "data": {
      "text/plain": [
       "matrix([[ 2.,  0.,  1.,  2.,  0.,  2.,  1.,  1.,  0.,  1.,  1.,  2.],\n",
       "        [ 0.,  2.,  1.,  0.,  3.,  0.,  6.,  1.,  2.,  0.,  0.,  2.],\n",
       "        [ 1.,  1.,  2.,  0.,  0.,  1.,  2.,  1.,  1.,  0.,  1.,  3.],\n",
       "        [ 2.,  0.,  0., 24.,  0.,  2.,  2.,  6.,  0.,  6.,  6.,  0.],\n",
       "        [ 0.,  3.,  0.,  0., 18.,  9., 12.,  0.,  3.,  0.,  0.,  3.],\n",
       "        [ 2.,  0.,  1.,  2.,  9., 11.,  1.,  1.,  0.,  1.,  1.,  2.],\n",
       "        [ 1.,  6.,  2.,  2., 12.,  1., 21.,  3.,  6.,  1.,  0.,  6.],\n",
       "        [ 1.,  1.,  1.,  6.,  0.,  1.,  3.,  3.,  1.,  2.,  0.,  1.],\n",
       "        [ 0.,  2.,  1.,  0.,  3.,  0.,  6.,  1.,  2.,  0.,  0.,  2.],\n",
       "        [ 1.,  0.,  0.,  6.,  0.,  1.,  1.,  2.,  0.,  2.,  0.,  0.],\n",
       "        [ 1.,  0.,  1.,  6.,  0.,  1.,  0.,  0.,  0.,  0., 10.,  2.],\n",
       "        [ 2.,  2.,  3.,  0.,  3.,  2.,  6.,  1.,  2.,  0.,  2.,  6.]])"
      ]
     },
     "execution_count": 200,
     "metadata": {},
     "output_type": "execute_result"
    }
   ],
   "source": [
    "np.matmul(vec.transpose(),vec)"
   ]
  },
  {
   "cell_type": "code",
   "execution_count": 249,
   "metadata": {},
   "outputs": [],
   "source": [
    "weights = np.zeros((len(vocab),len(vocab)))\n",
    "for i,d in enumerate(docs):\n",
    "    words = d.split()\n",
    "    for w in words:\n",
    "        for m in words:\n",
    "            if w in vocab and m in vocab:\n",
    "                indi = vocab.index(w)\n",
    "                indj = vocab.index(m)\n",
    "                posi = d.index(w)\n",
    "                posj = d.index(m)\n",
    "                try:\n",
    "                    weights[indi,indj] += 1/abs(posi-posj)\n",
    "                except:\n",
    "                    None"
   ]
  },
  {
   "cell_type": "code",
   "execution_count": 250,
   "metadata": {},
   "outputs": [
    {
     "data": {
      "text/plain": [
       "<matplotlib.axes._subplots.AxesSubplot at 0x1a1e642d30>"
      ]
     },
     "execution_count": 250,
     "metadata": {},
     "output_type": "execute_result"
    },
    {
     "data": {
      "image/png": "[encoded data removed]",
      "text/plain": [
       "<Figure size 432x288 with 2 Axes>"
      ]
     },
     "metadata": {
      "needs_background": "light"
     },
     "output_type": "display_data"
    }
   ],
   "source": [
    "sns.heatmap(weights)"
   ]
  },
  {
   "cell_type": "code",
   "execution_count": 251,
   "metadata": {},
   "outputs": [
    {
     "name": "stdout",
     "output_type": "stream",
     "text": [
      "tensor(13.3850, grad_fn=<DistBackward>)\n",
      "tensor(9.3001, grad_fn=<DistBackward>)\n",
      "tensor(6.6780, grad_fn=<DistBackward>)\n",
      "tensor(5.1710, grad_fn=<DistBackward>)\n",
      "tensor(4.3725, grad_fn=<DistBackward>)\n",
      "tensor(3.9080, grad_fn=<DistBackward>)\n",
      "tensor(3.5370, grad_fn=<DistBackward>)\n",
      "tensor(3.1714, grad_fn=<DistBackward>)\n",
      "tensor(2.9113, grad_fn=<DistBackward>)\n",
      "tensor(2.8032, grad_fn=<DistBackward>)\n",
      "tensor(2.7523, grad_fn=<DistBackward>)\n",
      "tensor(2.7286, grad_fn=<DistBackward>)\n",
      "tensor(2.7166, grad_fn=<DistBackward>)\n",
      "tensor(2.7098, grad_fn=<DistBackward>)\n",
      "tensor(2.7058, grad_fn=<DistBackward>)\n",
      "tensor(2.7032, grad_fn=<DistBackward>)\n",
      "tensor(2.7014, grad_fn=<DistBackward>)\n",
      "tensor(2.7001, grad_fn=<DistBackward>)\n",
      "tensor(2.6990, grad_fn=<DistBackward>)\n",
      "tensor(2.6981, grad_fn=<DistBackward>)\n",
      "tensor(2.6972, grad_fn=<DistBackward>)\n",
      "tensor(2.6964, grad_fn=<DistBackward>)\n",
      "tensor(2.6955, grad_fn=<DistBackward>)\n",
      "tensor(2.6945, grad_fn=<DistBackward>)\n",
      "tensor(2.6934, grad_fn=<DistBackward>)\n"
     ]
    }
   ],
   "source": [
    "target = torch.tensor(weights, dtype=torch.float32)\n",
    "w = torch.randn(weights.shape[0],2,requires_grad=True)\n",
    "\n",
    "opt = torch.optim.Adam([w], lr=0.01)\n",
    "# criterion = torch.dist()\n",
    "\n",
    "for i in range(500):\n",
    "    out = torch.mm(w,torch.transpose(w,0,1))\n",
    "    loss = torch.dist(out, target)\n",
    "    if i % 20 == 0:\n",
    "        print(loss)\n",
    "    loss.backward()\n",
    "    opt.step()\n",
    "    opt.zero_grad()"
   ]
  },
  {
   "cell_type": "code",
   "execution_count": 252,
   "metadata": {},
   "outputs": [],
   "source": [
    "w_new = w.detach().numpy().transpose()"
   ]
  },
  {
   "cell_type": "code",
   "execution_count": 253,
   "metadata": {},
   "outputs": [
    {
     "data": {
      "image/png": "[encoded data removed]",
      "text/plain": [
       "<Figure size 432x288 with 1 Axes>"
      ]
     },
     "metadata": {
      "needs_background": "light"
     },
     "output_type": "display_data"
    }
   ],
   "source": [
    "plt.scatter(w_new[0,:],w_new[1,:])\n",
    "for x,y,v in zip(w_new[0,:],w_new[1,:],vocab):\n",
    "    plt.annotate(v, \n",
    "                 (x,y), # coordinates of point to label\n",
    "                 textcoords=\"offset points\", # how to position the text\n",
    "                 xytext=(0,5), # distance from text to points (x,y)\n",
    "                 ha='center')"
   ]
  }
 ],
 "metadata": {
  "kernelspec": {
   "display_name": "Python 3",
   "language": "python",
   "name": "python3"
  },
  "language_info": {
   "codemirror_mode": {
    "name": "ipython",
    "version": 3
   },
   "file_extension": ".py",
   "mimetype": "text/x-python",
   "name": "python",
   "nbconvert_exporter": "python",
   "pygments_lexer": "ipython3",
   "version": "3.7.1"
  },
  "name": "lecture.ipynb",
  "toc": {
   "base_numbering": 1,
   "nav_menu": {},
   "number_sections": true,
   "sideBar": true,
   "skip_h1_title": false,
   "title_cell": "Table of Contents",
   "title_sidebar": "Contents",
   "toc_cell": false,
   "toc_position": {},
   "toc_section_display": true,
   "toc_window_display": true
  }
 },
 "nbformat": 4,
 "nbformat_minor": 4
}
